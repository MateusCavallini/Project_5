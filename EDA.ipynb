{
 "cells": [
  {
   "cell_type": "code",
   "execution_count": null,
   "id": "17522625",
   "metadata": {},
   "outputs": [],
   "source": [
    "import pandas as pd"
   ]
  },
  {
   "cell_type": "code",
   "execution_count": null,
   "id": "48ba09e8",
   "metadata": {},
   "outputs": [
    {
     "name": "stdout",
     "output_type": "stream",
     "text": [
      "Testando notebook\n"
     ]
    }
   ],
   "source": [
    "print(\"Testando notebook\")"
   ]
  },
  {
   "cell_type": "code",
   "execution_count": 2,
   "id": "18d474bf",
   "metadata": {},
   "outputs": [],
   "source": [
    "import plotly.express as px"
   ]
  },
  {
   "cell_type": "code",
   "execution_count": 6,
   "id": "365429b4",
   "metadata": {},
   "outputs": [],
   "source": [
    "project_data = pd.read_csv('killed-in-gaza.csv') # lendo os dados"
   ]
  },
  {
   "cell_type": "code",
   "execution_count": 7,
   "id": "03b82949",
   "metadata": {},
   "outputs": [
    {
     "data": {
      "text/html": [
       "<div>\n",
       "<style scoped>\n",
       "    .dataframe tbody tr th:only-of-type {\n",
       "        vertical-align: middle;\n",
       "    }\n",
       "\n",
       "    .dataframe tbody tr th {\n",
       "        vertical-align: top;\n",
       "    }\n",
       "\n",
       "    .dataframe thead th {\n",
       "        text-align: right;\n",
       "    }\n",
       "</style>\n",
       "<table border=\"1\" class=\"dataframe\">\n",
       "  <thead>\n",
       "    <tr style=\"text-align: right;\">\n",
       "      <th></th>\n",
       "      <th>id</th>\n",
       "      <th>en_name</th>\n",
       "      <th>ar_name</th>\n",
       "      <th>age</th>\n",
       "      <th>dob</th>\n",
       "      <th>sex</th>\n",
       "      <th>update</th>\n",
       "    </tr>\n",
       "  </thead>\n",
       "  <tbody>\n",
       "    <tr>\n",
       "      <th>0</th>\n",
       "      <td>999783350</td>\n",
       "      <td>Rafat Amir Hamdan Abed</td>\n",
       "      <td>رأفت امير حمدان عابد</td>\n",
       "      <td>50</td>\n",
       "      <td>1973-03-23</td>\n",
       "      <td>m</td>\n",
       "      <td>6</td>\n",
       "    </tr>\n",
       "    <tr>\n",
       "      <th>1</th>\n",
       "      <td>999783079</td>\n",
       "      <td>Nahed Hilmi Saleh Al-Meidna</td>\n",
       "      <td>ناهض حلمي صالح الميدنه</td>\n",
       "      <td>53</td>\n",
       "      <td>1970-11-26</td>\n",
       "      <td>m</td>\n",
       "      <td>2</td>\n",
       "    </tr>\n",
       "    <tr>\n",
       "      <th>2</th>\n",
       "      <td>999782774</td>\n",
       "      <td>Atef Eliwa Abdel Qurm</td>\n",
       "      <td>عاطف عليوه عبد القرم</td>\n",
       "      <td>52</td>\n",
       "      <td>1973-01-05</td>\n",
       "      <td>m</td>\n",
       "      <td>8</td>\n",
       "    </tr>\n",
       "    <tr>\n",
       "      <th>3</th>\n",
       "      <td>999781917</td>\n",
       "      <td>Ali Sayed Ali Al-Sharawi</td>\n",
       "      <td>علي سيد علي الشعراوي</td>\n",
       "      <td>46</td>\n",
       "      <td>1976-11-15</td>\n",
       "      <td>m</td>\n",
       "      <td>2</td>\n",
       "    </tr>\n",
       "    <tr>\n",
       "      <th>4</th>\n",
       "      <td>999781826</td>\n",
       "      <td>Mohammed Ata Rubin Al-Farram</td>\n",
       "      <td>محمد عطا روبين الفرام</td>\n",
       "      <td>47</td>\n",
       "      <td>1976-12-18</td>\n",
       "      <td>m</td>\n",
       "      <td>6</td>\n",
       "    </tr>\n",
       "    <tr>\n",
       "      <th>...</th>\n",
       "      <td>...</td>\n",
       "      <td>...</td>\n",
       "      <td>...</td>\n",
       "      <td>...</td>\n",
       "      <td>...</td>\n",
       "      <td>...</td>\n",
       "      <td>...</td>\n",
       "    </tr>\n",
       "    <tr>\n",
       "      <th>60194</th>\n",
       "      <td>400002481</td>\n",
       "      <td>Ahmed Mahmoud Ahmed Al-Duwaik</td>\n",
       "      <td>أحمد محمود أحمد الدويك</td>\n",
       "      <td>29</td>\n",
       "      <td>1994-05-13</td>\n",
       "      <td>m</td>\n",
       "      <td>6</td>\n",
       "    </tr>\n",
       "    <tr>\n",
       "      <th>60195</th>\n",
       "      <td>400002192</td>\n",
       "      <td>Salman Jalal Faris Qdeih</td>\n",
       "      <td>سلمان جلال فارس قديح</td>\n",
       "      <td>29</td>\n",
       "      <td>1994-05-09</td>\n",
       "      <td>m</td>\n",
       "      <td>1</td>\n",
       "    </tr>\n",
       "    <tr>\n",
       "      <th>60196</th>\n",
       "      <td>400000550</td>\n",
       "      <td>Fadi Mohammed Ahmed Al-Sharif</td>\n",
       "      <td>فادي محمد أحمد الشريف</td>\n",
       "      <td>5</td>\n",
       "      <td>2017-12-29</td>\n",
       "      <td>m</td>\n",
       "      <td>1</td>\n",
       "    </tr>\n",
       "    <tr>\n",
       "      <th>60197</th>\n",
       "      <td>389561765</td>\n",
       "      <td>Marine Valef - Marinov</td>\n",
       "      <td>مارين فالف - مارينوف</td>\n",
       "      <td>51</td>\n",
       "      <td>1973-11-11</td>\n",
       "      <td>m</td>\n",
       "      <td>6</td>\n",
       "    </tr>\n",
       "    <tr>\n",
       "      <th>60198</th>\n",
       "      <td>235226</td>\n",
       "      <td>Mohammed Mukhlis Darwish</td>\n",
       "      <td>محمد مخلص 0 درويش</td>\n",
       "      <td>0</td>\n",
       "      <td>2024-03-01</td>\n",
       "      <td>m</td>\n",
       "      <td>6</td>\n",
       "    </tr>\n",
       "  </tbody>\n",
       "</table>\n",
       "<p>60199 rows × 7 columns</p>\n",
       "</div>"
      ],
      "text/plain": [
       "              id                        en_name                 ar_name  age  \\\n",
       "0      999783350         Rafat Amir Hamdan Abed    رأفت امير حمدان عابد   50   \n",
       "1      999783079    Nahed Hilmi Saleh Al-Meidna  ناهض حلمي صالح الميدنه   53   \n",
       "2      999782774          Atef Eliwa Abdel Qurm    عاطف عليوه عبد القرم   52   \n",
       "3      999781917       Ali Sayed Ali Al-Sharawi    علي سيد علي الشعراوي   46   \n",
       "4      999781826   Mohammed Ata Rubin Al-Farram   محمد عطا روبين الفرام   47   \n",
       "...          ...                            ...                     ...  ...   \n",
       "60194  400002481  Ahmed Mahmoud Ahmed Al-Duwaik  أحمد محمود أحمد الدويك   29   \n",
       "60195  400002192       Salman Jalal Faris Qdeih    سلمان جلال فارس قديح   29   \n",
       "60196  400000550  Fadi Mohammed Ahmed Al-Sharif   فادي محمد أحمد الشريف    5   \n",
       "60197  389561765         Marine Valef - Marinov    مارين فالف - مارينوف   51   \n",
       "60198     235226       Mohammed Mukhlis Darwish       محمد مخلص 0 درويش    0   \n",
       "\n",
       "              dob sex  update  \n",
       "0      1973-03-23   m       6  \n",
       "1      1970-11-26   m       2  \n",
       "2      1973-01-05   m       8  \n",
       "3      1976-11-15   m       2  \n",
       "4      1976-12-18   m       6  \n",
       "...           ...  ..     ...  \n",
       "60194  1994-05-13   m       6  \n",
       "60195  1994-05-09   m       1  \n",
       "60196  2017-12-29   m       1  \n",
       "60197  1973-11-11   m       6  \n",
       "60198  2024-03-01   m       6  \n",
       "\n",
       "[60199 rows x 7 columns]"
      ]
     },
     "execution_count": 7,
     "metadata": {},
     "output_type": "execute_result"
    }
   ],
   "source": [
    "project_data"
   ]
  },
  {
   "cell_type": "code",
   "execution_count": 8,
   "id": "630c9fee",
   "metadata": {},
   "outputs": [
    {
     "name": "stdout",
     "output_type": "stream",
     "text": [
      "<class 'pandas.core.frame.DataFrame'>\n",
      "RangeIndex: 60199 entries, 0 to 60198\n",
      "Data columns (total 7 columns):\n",
      " #   Column   Non-Null Count  Dtype \n",
      "---  ------   --------------  ----- \n",
      " 0   id       60199 non-null  int64 \n",
      " 1   en_name  60199 non-null  object\n",
      " 2   ar_name  60199 non-null  object\n",
      " 3   age      60199 non-null  int64 \n",
      " 4   dob      60199 non-null  object\n",
      " 5   sex      60199 non-null  object\n",
      " 6   update   60199 non-null  int64 \n",
      "dtypes: int64(3), object(4)\n",
      "memory usage: 3.2+ MB\n"
     ]
    }
   ],
   "source": [
    "project_data.info()"
   ]
  },
  {
   "cell_type": "code",
   "execution_count": 9,
   "id": "9954d8ac",
   "metadata": {},
   "outputs": [],
   "source": [
    "kids_data = project_data[project_data[\"age\"] < 13]"
   ]
  },
  {
   "cell_type": "code",
   "execution_count": 10,
   "id": "9a76ebf4",
   "metadata": {},
   "outputs": [
    {
     "data": {
      "text/html": [
       "<div>\n",
       "<style scoped>\n",
       "    .dataframe tbody tr th:only-of-type {\n",
       "        vertical-align: middle;\n",
       "    }\n",
       "\n",
       "    .dataframe tbody tr th {\n",
       "        vertical-align: top;\n",
       "    }\n",
       "\n",
       "    .dataframe thead th {\n",
       "        text-align: right;\n",
       "    }\n",
       "</style>\n",
       "<table border=\"1\" class=\"dataframe\">\n",
       "  <thead>\n",
       "    <tr style=\"text-align: right;\">\n",
       "      <th></th>\n",
       "      <th>id</th>\n",
       "      <th>en_name</th>\n",
       "      <th>ar_name</th>\n",
       "      <th>age</th>\n",
       "      <th>dob</th>\n",
       "      <th>sex</th>\n",
       "      <th>update</th>\n",
       "    </tr>\n",
       "  </thead>\n",
       "  <tbody>\n",
       "    <tr>\n",
       "      <th>8216</th>\n",
       "      <td>906735832</td>\n",
       "      <td>Abdullah Mohammed Riyad Abdullah Al-Sayed Kul</td>\n",
       "      <td>عبدالله محمد رياض عبدالله السيد كل</td>\n",
       "      <td>0</td>\n",
       "      <td>2023-08-11</td>\n",
       "      <td>m</td>\n",
       "      <td>7</td>\n",
       "    </tr>\n",
       "    <tr>\n",
       "      <th>11830</th>\n",
       "      <td>900668005</td>\n",
       "      <td>Hamed Suleiman Mustafa Abu Khati</td>\n",
       "      <td>حامد سليمان مصطفى ابو خطي</td>\n",
       "      <td>0</td>\n",
       "      <td>2024-09-16</td>\n",
       "      <td>m</td>\n",
       "      <td>9</td>\n",
       "    </tr>\n",
       "    <tr>\n",
       "      <th>12698</th>\n",
       "      <td>854217963</td>\n",
       "      <td>Mustafa Wahid Ahmed Sheikh Al-Eid</td>\n",
       "      <td>مصطفى وحيد احمد شيخ العيد</td>\n",
       "      <td>6</td>\n",
       "      <td>2018-01-01</td>\n",
       "      <td>m</td>\n",
       "      <td>4</td>\n",
       "    </tr>\n",
       "    <tr>\n",
       "      <th>12861</th>\n",
       "      <td>804768097</td>\n",
       "      <td>Bayan Muhannad Mohammed Jumaa</td>\n",
       "      <td>بيان مهند محمد جمعه</td>\n",
       "      <td>1</td>\n",
       "      <td>2023-01-01</td>\n",
       "      <td>m</td>\n",
       "      <td>6</td>\n",
       "    </tr>\n",
       "    <tr>\n",
       "      <th>12862</th>\n",
       "      <td>804767345</td>\n",
       "      <td>Mohammed Amer Yasser Al-Masri</td>\n",
       "      <td>محمد عامر ياسر المصري</td>\n",
       "      <td>0</td>\n",
       "      <td>2024-05-01</td>\n",
       "      <td>m</td>\n",
       "      <td>6</td>\n",
       "    </tr>\n",
       "    <tr>\n",
       "      <th>...</th>\n",
       "      <td>...</td>\n",
       "      <td>...</td>\n",
       "      <td>...</td>\n",
       "      <td>...</td>\n",
       "      <td>...</td>\n",
       "      <td>...</td>\n",
       "      <td>...</td>\n",
       "    </tr>\n",
       "    <tr>\n",
       "      <th>48534</th>\n",
       "      <td>409113164</td>\n",
       "      <td>Sayyaf Mohammed Mahmoud Abu Salah</td>\n",
       "      <td>سياف محمد محمود ابو صلاح</td>\n",
       "      <td>0</td>\n",
       "      <td>2025-04-27</td>\n",
       "      <td>m</td>\n",
       "      <td>7</td>\n",
       "    </tr>\n",
       "    <tr>\n",
       "      <th>50452</th>\n",
       "      <td>407886407</td>\n",
       "      <td>Salah Al-Din Ahmed Khalil Abdel Ghafour</td>\n",
       "      <td>صلاح الدين أحمد خليل عبد الغفور</td>\n",
       "      <td>7</td>\n",
       "      <td>2016-11-05</td>\n",
       "      <td>m</td>\n",
       "      <td>7</td>\n",
       "    </tr>\n",
       "    <tr>\n",
       "      <th>52049</th>\n",
       "      <td>406108746</td>\n",
       "      <td>Mahmoud Rafiq Hussein Abu Al-Aish</td>\n",
       "      <td>محمود رفيق حسين ابو العيش</td>\n",
       "      <td>0</td>\n",
       "      <td>2024-10-05</td>\n",
       "      <td>m</td>\n",
       "      <td>6</td>\n",
       "    </tr>\n",
       "    <tr>\n",
       "      <th>60196</th>\n",
       "      <td>400000550</td>\n",
       "      <td>Fadi Mohammed Ahmed Al-Sharif</td>\n",
       "      <td>فادي محمد أحمد الشريف</td>\n",
       "      <td>5</td>\n",
       "      <td>2017-12-29</td>\n",
       "      <td>m</td>\n",
       "      <td>1</td>\n",
       "    </tr>\n",
       "    <tr>\n",
       "      <th>60198</th>\n",
       "      <td>235226</td>\n",
       "      <td>Mohammed Mukhlis Darwish</td>\n",
       "      <td>محمد مخلص 0 درويش</td>\n",
       "      <td>0</td>\n",
       "      <td>2024-03-01</td>\n",
       "      <td>m</td>\n",
       "      <td>6</td>\n",
       "    </tr>\n",
       "  </tbody>\n",
       "</table>\n",
       "<p>12539 rows × 7 columns</p>\n",
       "</div>"
      ],
      "text/plain": [
       "              id                                        en_name  \\\n",
       "8216   906735832  Abdullah Mohammed Riyad Abdullah Al-Sayed Kul   \n",
       "11830  900668005               Hamed Suleiman Mustafa Abu Khati   \n",
       "12698  854217963              Mustafa Wahid Ahmed Sheikh Al-Eid   \n",
       "12861  804768097                  Bayan Muhannad Mohammed Jumaa   \n",
       "12862  804767345                  Mohammed Amer Yasser Al-Masri   \n",
       "...          ...                                            ...   \n",
       "48534  409113164              Sayyaf Mohammed Mahmoud Abu Salah   \n",
       "50452  407886407        Salah Al-Din Ahmed Khalil Abdel Ghafour   \n",
       "52049  406108746              Mahmoud Rafiq Hussein Abu Al-Aish   \n",
       "60196  400000550                  Fadi Mohammed Ahmed Al-Sharif   \n",
       "60198     235226                       Mohammed Mukhlis Darwish   \n",
       "\n",
       "                                  ar_name  age         dob sex  update  \n",
       "8216   عبدالله محمد رياض عبدالله السيد كل    0  2023-08-11   m       7  \n",
       "11830           حامد سليمان مصطفى ابو خطي    0  2024-09-16   m       9  \n",
       "12698           مصطفى وحيد احمد شيخ العيد    6  2018-01-01   m       4  \n",
       "12861                 بيان مهند محمد جمعه    1  2023-01-01   m       6  \n",
       "12862               محمد عامر ياسر المصري    0  2024-05-01   m       6  \n",
       "...                                   ...  ...         ...  ..     ...  \n",
       "48534            سياف محمد محمود ابو صلاح    0  2025-04-27   m       7  \n",
       "50452     صلاح الدين أحمد خليل عبد الغفور    7  2016-11-05   m       7  \n",
       "52049           محمود رفيق حسين ابو العيش    0  2024-10-05   m       6  \n",
       "60196               فادي محمد أحمد الشريف    5  2017-12-29   m       1  \n",
       "60198                   محمد مخلص 0 درويش    0  2024-03-01   m       6  \n",
       "\n",
       "[12539 rows x 7 columns]"
      ]
     },
     "execution_count": 10,
     "metadata": {},
     "output_type": "execute_result"
    }
   ],
   "source": [
    "kids_data\n"
   ]
  },
  {
   "cell_type": "code",
   "execution_count": 49,
   "id": "553371cb",
   "metadata": {},
   "outputs": [],
   "source": [
    "ageee = project_data.groupby('age')[\"id\"].count()"
   ]
  },
  {
   "cell_type": "code",
   "execution_count": 53,
   "id": "08c3aad5",
   "metadata": {},
   "outputs": [
    {
     "name": "stdout",
     "output_type": "stream",
     "text": [
      "age\n",
      "0      968\n",
      "1      969\n",
      "2      995\n",
      "3      924\n",
      "4      888\n",
      "      ... \n",
      "98       1\n",
      "100      1\n",
      "101      1\n",
      "102      1\n",
      "110      1\n",
      "Name: id, Length: 103, dtype: int64\n"
     ]
    },
    {
     "data": {
      "text/plain": [
       "pandas.core.series.Series"
      ]
     },
     "execution_count": 53,
     "metadata": {},
     "output_type": "execute_result"
    }
   ],
   "source": [
    "print(ageee)\n",
    "type(ageee)"
   ]
  },
  {
   "cell_type": "code",
   "execution_count": 46,
   "id": "e4ac0c5d",
   "metadata": {},
   "outputs": [],
   "source": [
    "age_counts = project_data.groupby('age')[\"id\"].count().reset_index(name='deaths')"
   ]
  },
  {
   "cell_type": "code",
   "execution_count": 47,
   "id": "2b2ce6f6",
   "metadata": {},
   "outputs": [
    {
     "data": {
      "text/html": [
       "<div>\n",
       "<style scoped>\n",
       "    .dataframe tbody tr th:only-of-type {\n",
       "        vertical-align: middle;\n",
       "    }\n",
       "\n",
       "    .dataframe tbody tr th {\n",
       "        vertical-align: top;\n",
       "    }\n",
       "\n",
       "    .dataframe thead th {\n",
       "        text-align: right;\n",
       "    }\n",
       "</style>\n",
       "<table border=\"1\" class=\"dataframe\">\n",
       "  <thead>\n",
       "    <tr style=\"text-align: right;\">\n",
       "      <th></th>\n",
       "      <th>age</th>\n",
       "      <th>deaths</th>\n",
       "    </tr>\n",
       "  </thead>\n",
       "  <tbody>\n",
       "    <tr>\n",
       "      <th>0</th>\n",
       "      <td>0</td>\n",
       "      <td>968</td>\n",
       "    </tr>\n",
       "    <tr>\n",
       "      <th>1</th>\n",
       "      <td>1</td>\n",
       "      <td>969</td>\n",
       "    </tr>\n",
       "    <tr>\n",
       "      <th>2</th>\n",
       "      <td>2</td>\n",
       "      <td>995</td>\n",
       "    </tr>\n",
       "    <tr>\n",
       "      <th>3</th>\n",
       "      <td>3</td>\n",
       "      <td>924</td>\n",
       "    </tr>\n",
       "    <tr>\n",
       "      <th>4</th>\n",
       "      <td>4</td>\n",
       "      <td>888</td>\n",
       "    </tr>\n",
       "    <tr>\n",
       "      <th>...</th>\n",
       "      <td>...</td>\n",
       "      <td>...</td>\n",
       "    </tr>\n",
       "    <tr>\n",
       "      <th>98</th>\n",
       "      <td>98</td>\n",
       "      <td>1</td>\n",
       "    </tr>\n",
       "    <tr>\n",
       "      <th>99</th>\n",
       "      <td>100</td>\n",
       "      <td>1</td>\n",
       "    </tr>\n",
       "    <tr>\n",
       "      <th>100</th>\n",
       "      <td>101</td>\n",
       "      <td>1</td>\n",
       "    </tr>\n",
       "    <tr>\n",
       "      <th>101</th>\n",
       "      <td>102</td>\n",
       "      <td>1</td>\n",
       "    </tr>\n",
       "    <tr>\n",
       "      <th>102</th>\n",
       "      <td>110</td>\n",
       "      <td>1</td>\n",
       "    </tr>\n",
       "  </tbody>\n",
       "</table>\n",
       "<p>103 rows × 2 columns</p>\n",
       "</div>"
      ],
      "text/plain": [
       "     age  deaths\n",
       "0      0     968\n",
       "1      1     969\n",
       "2      2     995\n",
       "3      3     924\n",
       "4      4     888\n",
       "..   ...     ...\n",
       "98    98       1\n",
       "99   100       1\n",
       "100  101       1\n",
       "101  102       1\n",
       "102  110       1\n",
       "\n",
       "[103 rows x 2 columns]"
      ]
     },
     "execution_count": 47,
     "metadata": {},
     "output_type": "execute_result"
    }
   ],
   "source": [
    "age_counts"
   ]
  },
  {
   "cell_type": "code",
   "execution_count": null,
   "id": "e50f985b",
   "metadata": {},
   "outputs": [
    {
     "data": {
      "application/vnd.plotly.v1+json": {
       "config": {
        "plotlyServerURL": "https://plot.ly"
       },
       "data": [
        {
         "hovertemplate": "Age=%{x}<br>Number of Deaths=%{marker.size}<extra></extra>",
         "legendgroup": "",
         "marker": {
          "color": "#636efa",
          "size": {
           "bdata": "yAPJA+MDnAN4A+8DuwPeA50DsQOmA/IDBQRcBJEEWQTnBPEEIgU6BfwE8wQdBdsEvgTbBP8EBwVuBdEFmAVJBXQFIwXQBKMEFgTnA3QDdwPrAt0CkwKkAlwCPwIIAgACAwLdAeUBowGDAX4BlwFnAZYBdAFWAWQBcwE7AScBDAH8AAUB1gDmAMUAwQDMAJgAqAChAJwAfwBwAGsASwA6ADoATgBEACkAJgAfACgAIQARABcADAAaAAwABwADAAMACQAJAAEAAQABAAEAAQA=",
           "dtype": "i2"
          },
          "sizemode": "area",
          "sizeref": 3.7225,
          "symbol": "circle"
         },
         "mode": "markers",
         "name": "",
         "orientation": "v",
         "showlegend": false,
         "type": "scatter",
         "x": {
          "bdata": "AAECAwQFBgcICQoLDA0ODxAREhMUFRYXGBkaGxwdHh8gISIjJCUmJygpKissLS4vMDEyMzQ1Njc4OTo7PD0+P0BBQkNERUZHSElKS0xNTk9QUVJTVFVWV1hZWltcXV5fYGFiZGVmbg==",
          "dtype": "i1"
         },
         "xaxis": "x",
         "y": {
          "bdata": "yAPJA+MDnAN4A+8DuwPeA50DsQOmA/IDBQRcBJEEWQTnBPEEIgU6BfwE8wQdBdsEvgTbBP8EBwVuBdEFmAVJBXQFIwXQBKMEFgTnA3QDdwPrAt0CkwKkAlwCPwIIAgACAwLdAeUBowGDAX4BlwFnAZYBdAFWAWQBcwE7AScBDAH8AAUB1gDmAMUAwQDMAJgAqAChAJwAfwBwAGsASwA6ADoATgBEACkAJgAfACgAIQARABcADAAaAAwABwADAAMACQAJAAEAAQABAAEAAQA=",
          "dtype": "i2"
         },
         "yaxis": "y"
        }
       ],
       "layout": {
        "legend": {
         "itemsizing": "constant",
         "tracegroupgap": 0
        },
        "template": {
         "data": {
          "bar": [
           {
            "error_x": {
             "color": "#2a3f5f"
            },
            "error_y": {
             "color": "#2a3f5f"
            },
            "marker": {
             "line": {
              "color": "#E5ECF6",
              "width": 0.5
             },
             "pattern": {
              "fillmode": "overlay",
              "size": 10,
              "solidity": 0.2
             }
            },
            "type": "bar"
           }
          ],
          "barpolar": [
           {
            "marker": {
             "line": {
              "color": "#E5ECF6",
              "width": 0.5
             },
             "pattern": {
              "fillmode": "overlay",
              "size": 10,
              "solidity": 0.2
             }
            },
            "type": "barpolar"
           }
          ],
          "carpet": [
           {
            "aaxis": {
             "endlinecolor": "#2a3f5f",
             "gridcolor": "white",
             "linecolor": "white",
             "minorgridcolor": "white",
             "startlinecolor": "#2a3f5f"
            },
            "baxis": {
             "endlinecolor": "#2a3f5f",
             "gridcolor": "white",
             "linecolor": "white",
             "minorgridcolor": "white",
             "startlinecolor": "#2a3f5f"
            },
            "type": "carpet"
           }
          ],
          "choropleth": [
           {
            "colorbar": {
             "outlinewidth": 0,
             "ticks": ""
            },
            "type": "choropleth"
           }
          ],
          "contour": [
           {
            "colorbar": {
             "outlinewidth": 0,
             "ticks": ""
            },
            "colorscale": [
             [
              0,
              "#0d0887"
             ],
             [
              0.1111111111111111,
              "#46039f"
             ],
             [
              0.2222222222222222,
              "#7201a8"
             ],
             [
              0.3333333333333333,
              "#9c179e"
             ],
             [
              0.4444444444444444,
              "#bd3786"
             ],
             [
              0.5555555555555556,
              "#d8576b"
             ],
             [
              0.6666666666666666,
              "#ed7953"
             ],
             [
              0.7777777777777778,
              "#fb9f3a"
             ],
             [
              0.8888888888888888,
              "#fdca26"
             ],
             [
              1,
              "#f0f921"
             ]
            ],
            "type": "contour"
           }
          ],
          "contourcarpet": [
           {
            "colorbar": {
             "outlinewidth": 0,
             "ticks": ""
            },
            "type": "contourcarpet"
           }
          ],
          "heatmap": [
           {
            "colorbar": {
             "outlinewidth": 0,
             "ticks": ""
            },
            "colorscale": [
             [
              0,
              "#0d0887"
             ],
             [
              0.1111111111111111,
              "#46039f"
             ],
             [
              0.2222222222222222,
              "#7201a8"
             ],
             [
              0.3333333333333333,
              "#9c179e"
             ],
             [
              0.4444444444444444,
              "#bd3786"
             ],
             [
              0.5555555555555556,
              "#d8576b"
             ],
             [
              0.6666666666666666,
              "#ed7953"
             ],
             [
              0.7777777777777778,
              "#fb9f3a"
             ],
             [
              0.8888888888888888,
              "#fdca26"
             ],
             [
              1,
              "#f0f921"
             ]
            ],
            "type": "heatmap"
           }
          ],
          "histogram": [
           {
            "marker": {
             "pattern": {
              "fillmode": "overlay",
              "size": 10,
              "solidity": 0.2
             }
            },
            "type": "histogram"
           }
          ],
          "histogram2d": [
           {
            "colorbar": {
             "outlinewidth": 0,
             "ticks": ""
            },
            "colorscale": [
             [
              0,
              "#0d0887"
             ],
             [
              0.1111111111111111,
              "#46039f"
             ],
             [
              0.2222222222222222,
              "#7201a8"
             ],
             [
              0.3333333333333333,
              "#9c179e"
             ],
             [
              0.4444444444444444,
              "#bd3786"
             ],
             [
              0.5555555555555556,
              "#d8576b"
             ],
             [
              0.6666666666666666,
              "#ed7953"
             ],
             [
              0.7777777777777778,
              "#fb9f3a"
             ],
             [
              0.8888888888888888,
              "#fdca26"
             ],
             [
              1,
              "#f0f921"
             ]
            ],
            "type": "histogram2d"
           }
          ],
          "histogram2dcontour": [
           {
            "colorbar": {
             "outlinewidth": 0,
             "ticks": ""
            },
            "colorscale": [
             [
              0,
              "#0d0887"
             ],
             [
              0.1111111111111111,
              "#46039f"
             ],
             [
              0.2222222222222222,
              "#7201a8"
             ],
             [
              0.3333333333333333,
              "#9c179e"
             ],
             [
              0.4444444444444444,
              "#bd3786"
             ],
             [
              0.5555555555555556,
              "#d8576b"
             ],
             [
              0.6666666666666666,
              "#ed7953"
             ],
             [
              0.7777777777777778,
              "#fb9f3a"
             ],
             [
              0.8888888888888888,
              "#fdca26"
             ],
             [
              1,
              "#f0f921"
             ]
            ],
            "type": "histogram2dcontour"
           }
          ],
          "mesh3d": [
           {
            "colorbar": {
             "outlinewidth": 0,
             "ticks": ""
            },
            "type": "mesh3d"
           }
          ],
          "parcoords": [
           {
            "line": {
             "colorbar": {
              "outlinewidth": 0,
              "ticks": ""
             }
            },
            "type": "parcoords"
           }
          ],
          "pie": [
           {
            "automargin": true,
            "type": "pie"
           }
          ],
          "scatter": [
           {
            "fillpattern": {
             "fillmode": "overlay",
             "size": 10,
             "solidity": 0.2
            },
            "type": "scatter"
           }
          ],
          "scatter3d": [
           {
            "line": {
             "colorbar": {
              "outlinewidth": 0,
              "ticks": ""
             }
            },
            "marker": {
             "colorbar": {
              "outlinewidth": 0,
              "ticks": ""
             }
            },
            "type": "scatter3d"
           }
          ],
          "scattercarpet": [
           {
            "marker": {
             "colorbar": {
              "outlinewidth": 0,
              "ticks": ""
             }
            },
            "type": "scattercarpet"
           }
          ],
          "scattergeo": [
           {
            "marker": {
             "colorbar": {
              "outlinewidth": 0,
              "ticks": ""
             }
            },
            "type": "scattergeo"
           }
          ],
          "scattergl": [
           {
            "marker": {
             "colorbar": {
              "outlinewidth": 0,
              "ticks": ""
             }
            },
            "type": "scattergl"
           }
          ],
          "scattermap": [
           {
            "marker": {
             "colorbar": {
              "outlinewidth": 0,
              "ticks": ""
             }
            },
            "type": "scattermap"
           }
          ],
          "scattermapbox": [
           {
            "marker": {
             "colorbar": {
              "outlinewidth": 0,
              "ticks": ""
             }
            },
            "type": "scattermapbox"
           }
          ],
          "scatterpolar": [
           {
            "marker": {
             "colorbar": {
              "outlinewidth": 0,
              "ticks": ""
             }
            },
            "type": "scatterpolar"
           }
          ],
          "scatterpolargl": [
           {
            "marker": {
             "colorbar": {
              "outlinewidth": 0,
              "ticks": ""
             }
            },
            "type": "scatterpolargl"
           }
          ],
          "scatterternary": [
           {
            "marker": {
             "colorbar": {
              "outlinewidth": 0,
              "ticks": ""
             }
            },
            "type": "scatterternary"
           }
          ],
          "surface": [
           {
            "colorbar": {
             "outlinewidth": 0,
             "ticks": ""
            },
            "colorscale": [
             [
              0,
              "#0d0887"
             ],
             [
              0.1111111111111111,
              "#46039f"
             ],
             [
              0.2222222222222222,
              "#7201a8"
             ],
             [
              0.3333333333333333,
              "#9c179e"
             ],
             [
              0.4444444444444444,
              "#bd3786"
             ],
             [
              0.5555555555555556,
              "#d8576b"
             ],
             [
              0.6666666666666666,
              "#ed7953"
             ],
             [
              0.7777777777777778,
              "#fb9f3a"
             ],
             [
              0.8888888888888888,
              "#fdca26"
             ],
             [
              1,
              "#f0f921"
             ]
            ],
            "type": "surface"
           }
          ],
          "table": [
           {
            "cells": {
             "fill": {
              "color": "#EBF0F8"
             },
             "line": {
              "color": "white"
             }
            },
            "header": {
             "fill": {
              "color": "#C8D4E3"
             },
             "line": {
              "color": "white"
             }
            },
            "type": "table"
           }
          ]
         },
         "layout": {
          "annotationdefaults": {
           "arrowcolor": "#2a3f5f",
           "arrowhead": 0,
           "arrowwidth": 1
          },
          "autotypenumbers": "strict",
          "coloraxis": {
           "colorbar": {
            "outlinewidth": 0,
            "ticks": ""
           }
          },
          "colorscale": {
           "diverging": [
            [
             0,
             "#8e0152"
            ],
            [
             0.1,
             "#c51b7d"
            ],
            [
             0.2,
             "#de77ae"
            ],
            [
             0.3,
             "#f1b6da"
            ],
            [
             0.4,
             "#fde0ef"
            ],
            [
             0.5,
             "#f7f7f7"
            ],
            [
             0.6,
             "#e6f5d0"
            ],
            [
             0.7,
             "#b8e186"
            ],
            [
             0.8,
             "#7fbc41"
            ],
            [
             0.9,
             "#4d9221"
            ],
            [
             1,
             "#276419"
            ]
           ],
           "sequential": [
            [
             0,
             "#0d0887"
            ],
            [
             0.1111111111111111,
             "#46039f"
            ],
            [
             0.2222222222222222,
             "#7201a8"
            ],
            [
             0.3333333333333333,
             "#9c179e"
            ],
            [
             0.4444444444444444,
             "#bd3786"
            ],
            [
             0.5555555555555556,
             "#d8576b"
            ],
            [
             0.6666666666666666,
             "#ed7953"
            ],
            [
             0.7777777777777778,
             "#fb9f3a"
            ],
            [
             0.8888888888888888,
             "#fdca26"
            ],
            [
             1,
             "#f0f921"
            ]
           ],
           "sequentialminus": [
            [
             0,
             "#0d0887"
            ],
            [
             0.1111111111111111,
             "#46039f"
            ],
            [
             0.2222222222222222,
             "#7201a8"
            ],
            [
             0.3333333333333333,
             "#9c179e"
            ],
            [
             0.4444444444444444,
             "#bd3786"
            ],
            [
             0.5555555555555556,
             "#d8576b"
            ],
            [
             0.6666666666666666,
             "#ed7953"
            ],
            [
             0.7777777777777778,
             "#fb9f3a"
            ],
            [
             0.8888888888888888,
             "#fdca26"
            ],
            [
             1,
             "#f0f921"
            ]
           ]
          },
          "colorway": [
           "#636efa",
           "#EF553B",
           "#00cc96",
           "#ab63fa",
           "#FFA15A",
           "#19d3f3",
           "#FF6692",
           "#B6E880",
           "#FF97FF",
           "#FECB52"
          ],
          "font": {
           "color": "#2a3f5f"
          },
          "geo": {
           "bgcolor": "white",
           "lakecolor": "white",
           "landcolor": "#E5ECF6",
           "showlakes": true,
           "showland": true,
           "subunitcolor": "white"
          },
          "hoverlabel": {
           "align": "left"
          },
          "hovermode": "closest",
          "mapbox": {
           "style": "light"
          },
          "paper_bgcolor": "white",
          "plot_bgcolor": "#E5ECF6",
          "polar": {
           "angularaxis": {
            "gridcolor": "white",
            "linecolor": "white",
            "ticks": ""
           },
           "bgcolor": "#E5ECF6",
           "radialaxis": {
            "gridcolor": "white",
            "linecolor": "white",
            "ticks": ""
           }
          },
          "scene": {
           "xaxis": {
            "backgroundcolor": "#E5ECF6",
            "gridcolor": "white",
            "gridwidth": 2,
            "linecolor": "white",
            "showbackground": true,
            "ticks": "",
            "zerolinecolor": "white"
           },
           "yaxis": {
            "backgroundcolor": "#E5ECF6",
            "gridcolor": "white",
            "gridwidth": 2,
            "linecolor": "white",
            "showbackground": true,
            "ticks": "",
            "zerolinecolor": "white"
           },
           "zaxis": {
            "backgroundcolor": "#E5ECF6",
            "gridcolor": "white",
            "gridwidth": 2,
            "linecolor": "white",
            "showbackground": true,
            "ticks": "",
            "zerolinecolor": "white"
           }
          },
          "shapedefaults": {
           "line": {
            "color": "#2a3f5f"
           }
          },
          "ternary": {
           "aaxis": {
            "gridcolor": "white",
            "linecolor": "white",
            "ticks": ""
           },
           "baxis": {
            "gridcolor": "white",
            "linecolor": "white",
            "ticks": ""
           },
           "bgcolor": "#E5ECF6",
           "caxis": {
            "gridcolor": "white",
            "linecolor": "white",
            "ticks": ""
           }
          },
          "title": {
           "x": 0.05
          },
          "xaxis": {
           "automargin": true,
           "gridcolor": "white",
           "linecolor": "white",
           "ticks": "",
           "title": {
            "standoff": 15
           },
           "zerolinecolor": "white",
           "zerolinewidth": 2
          },
          "yaxis": {
           "automargin": true,
           "gridcolor": "white",
           "linecolor": "white",
           "ticks": "",
           "title": {
            "standoff": 15
           },
           "zerolinecolor": "white",
           "zerolinewidth": 2
          }
         }
        },
        "title": {
         "text": "Number of Deaths by Age in Gaza"
        },
        "xaxis": {
         "anchor": "y",
         "domain": [
          0,
          1
         ],
         "title": {
          "text": "Age"
         }
        },
        "yaxis": {
         "anchor": "x",
         "domain": [
          0,
          1
         ],
         "title": {
          "text": "Number of Deaths"
         }
        }
       }
      }
     },
     "metadata": {},
     "output_type": "display_data"
    }
   ],
   "source": [
    "# Scatter plot mostrando idades com mais mortes\n",
    "fig_scatter_age = px.scatter(\n",
    "    age_counts,\n",
    "    x='age',          \n",
    "    y='deaths',       \n",
    "    size='deaths',    \n",
    "    title='Number of Deaths by Age in Gaza',\n",
    "    labels={'age': 'Age', 'deaths': 'Number of Deaths'},\n",
    "    hover_data={'age': True, 'deaths': True}  \n",
    ")\n",
    "\n",
    "fig_scatter_age.show()"
   ]
  },
  {
   "cell_type": "code",
   "execution_count": null,
   "id": "e151a9b6",
   "metadata": {},
   "outputs": [
    {
     "data": {
      "text/plain": [
       "12539"
      ]
     },
     "execution_count": 32,
     "metadata": {},
     "output_type": "execute_result"
    }
   ],
   "source": [
    "kids_data[\"id\"].count() # verificamos que 12539 crianças foram mortas na Faixa de Gaza"
   ]
  },
  {
   "cell_type": "code",
   "execution_count": null,
   "id": "120597c5",
   "metadata": {},
   "outputs": [],
   "source": [
    "project_data['sex'] = project_data['sex'].replace({\"f\":\"Female\", \"m\":\"Male\"}) # Substituimos os valores na coluno, para uma melhor visualização no gráfico\n"
   ]
  },
  {
   "cell_type": "code",
   "execution_count": null,
   "id": "9c4c6844",
   "metadata": {},
   "outputs": [
    {
     "data": {
      "text/html": [
       "<div>\n",
       "<style scoped>\n",
       "    .dataframe tbody tr th:only-of-type {\n",
       "        vertical-align: middle;\n",
       "    }\n",
       "\n",
       "    .dataframe tbody tr th {\n",
       "        vertical-align: top;\n",
       "    }\n",
       "\n",
       "    .dataframe thead th {\n",
       "        text-align: right;\n",
       "    }\n",
       "</style>\n",
       "<table border=\"1\" class=\"dataframe\">\n",
       "  <thead>\n",
       "    <tr style=\"text-align: right;\">\n",
       "      <th></th>\n",
       "      <th>id</th>\n",
       "      <th>en_name</th>\n",
       "      <th>ar_name</th>\n",
       "      <th>age</th>\n",
       "      <th>dob</th>\n",
       "      <th>sex</th>\n",
       "      <th>update</th>\n",
       "    </tr>\n",
       "  </thead>\n",
       "  <tbody>\n",
       "    <tr>\n",
       "      <th>0</th>\n",
       "      <td>999783350</td>\n",
       "      <td>Rafat Amir Hamdan Abed</td>\n",
       "      <td>رأفت امير حمدان عابد</td>\n",
       "      <td>50</td>\n",
       "      <td>1973-03-23</td>\n",
       "      <td>Male</td>\n",
       "      <td>6</td>\n",
       "    </tr>\n",
       "    <tr>\n",
       "      <th>1</th>\n",
       "      <td>999783079</td>\n",
       "      <td>Nahed Hilmi Saleh Al-Meidna</td>\n",
       "      <td>ناهض حلمي صالح الميدنه</td>\n",
       "      <td>53</td>\n",
       "      <td>1970-11-26</td>\n",
       "      <td>Male</td>\n",
       "      <td>2</td>\n",
       "    </tr>\n",
       "    <tr>\n",
       "      <th>2</th>\n",
       "      <td>999782774</td>\n",
       "      <td>Atef Eliwa Abdel Qurm</td>\n",
       "      <td>عاطف عليوه عبد القرم</td>\n",
       "      <td>52</td>\n",
       "      <td>1973-01-05</td>\n",
       "      <td>Male</td>\n",
       "      <td>8</td>\n",
       "    </tr>\n",
       "    <tr>\n",
       "      <th>3</th>\n",
       "      <td>999781917</td>\n",
       "      <td>Ali Sayed Ali Al-Sharawi</td>\n",
       "      <td>علي سيد علي الشعراوي</td>\n",
       "      <td>46</td>\n",
       "      <td>1976-11-15</td>\n",
       "      <td>Male</td>\n",
       "      <td>2</td>\n",
       "    </tr>\n",
       "    <tr>\n",
       "      <th>4</th>\n",
       "      <td>999781826</td>\n",
       "      <td>Mohammed Ata Rubin Al-Farram</td>\n",
       "      <td>محمد عطا روبين الفرام</td>\n",
       "      <td>47</td>\n",
       "      <td>1976-12-18</td>\n",
       "      <td>Male</td>\n",
       "      <td>6</td>\n",
       "    </tr>\n",
       "    <tr>\n",
       "      <th>...</th>\n",
       "      <td>...</td>\n",
       "      <td>...</td>\n",
       "      <td>...</td>\n",
       "      <td>...</td>\n",
       "      <td>...</td>\n",
       "      <td>...</td>\n",
       "      <td>...</td>\n",
       "    </tr>\n",
       "    <tr>\n",
       "      <th>60194</th>\n",
       "      <td>400002481</td>\n",
       "      <td>Ahmed Mahmoud Ahmed Al-Duwaik</td>\n",
       "      <td>أحمد محمود أحمد الدويك</td>\n",
       "      <td>29</td>\n",
       "      <td>1994-05-13</td>\n",
       "      <td>Male</td>\n",
       "      <td>6</td>\n",
       "    </tr>\n",
       "    <tr>\n",
       "      <th>60195</th>\n",
       "      <td>400002192</td>\n",
       "      <td>Salman Jalal Faris Qdeih</td>\n",
       "      <td>سلمان جلال فارس قديح</td>\n",
       "      <td>29</td>\n",
       "      <td>1994-05-09</td>\n",
       "      <td>Male</td>\n",
       "      <td>1</td>\n",
       "    </tr>\n",
       "    <tr>\n",
       "      <th>60196</th>\n",
       "      <td>400000550</td>\n",
       "      <td>Fadi Mohammed Ahmed Al-Sharif</td>\n",
       "      <td>فادي محمد أحمد الشريف</td>\n",
       "      <td>5</td>\n",
       "      <td>2017-12-29</td>\n",
       "      <td>Male</td>\n",
       "      <td>1</td>\n",
       "    </tr>\n",
       "    <tr>\n",
       "      <th>60197</th>\n",
       "      <td>389561765</td>\n",
       "      <td>Marine Valef - Marinov</td>\n",
       "      <td>مارين فالف - مارينوف</td>\n",
       "      <td>51</td>\n",
       "      <td>1973-11-11</td>\n",
       "      <td>Male</td>\n",
       "      <td>6</td>\n",
       "    </tr>\n",
       "    <tr>\n",
       "      <th>60198</th>\n",
       "      <td>235226</td>\n",
       "      <td>Mohammed Mukhlis Darwish</td>\n",
       "      <td>محمد مخلص 0 درويش</td>\n",
       "      <td>0</td>\n",
       "      <td>2024-03-01</td>\n",
       "      <td>Male</td>\n",
       "      <td>6</td>\n",
       "    </tr>\n",
       "  </tbody>\n",
       "</table>\n",
       "<p>60199 rows × 7 columns</p>\n",
       "</div>"
      ],
      "text/plain": [
       "              id                        en_name                 ar_name  age  \\\n",
       "0      999783350         Rafat Amir Hamdan Abed    رأفت امير حمدان عابد   50   \n",
       "1      999783079    Nahed Hilmi Saleh Al-Meidna  ناهض حلمي صالح الميدنه   53   \n",
       "2      999782774          Atef Eliwa Abdel Qurm    عاطف عليوه عبد القرم   52   \n",
       "3      999781917       Ali Sayed Ali Al-Sharawi    علي سيد علي الشعراوي   46   \n",
       "4      999781826   Mohammed Ata Rubin Al-Farram   محمد عطا روبين الفرام   47   \n",
       "...          ...                            ...                     ...  ...   \n",
       "60194  400002481  Ahmed Mahmoud Ahmed Al-Duwaik  أحمد محمود أحمد الدويك   29   \n",
       "60195  400002192       Salman Jalal Faris Qdeih    سلمان جلال فارس قديح   29   \n",
       "60196  400000550  Fadi Mohammed Ahmed Al-Sharif   فادي محمد أحمد الشريف    5   \n",
       "60197  389561765         Marine Valef - Marinov    مارين فالف - مارينوف   51   \n",
       "60198     235226       Mohammed Mukhlis Darwish       محمد مخلص 0 درويش    0   \n",
       "\n",
       "              dob   sex  update  \n",
       "0      1973-03-23  Male       6  \n",
       "1      1970-11-26  Male       2  \n",
       "2      1973-01-05  Male       8  \n",
       "3      1976-11-15  Male       2  \n",
       "4      1976-12-18  Male       6  \n",
       "...           ...   ...     ...  \n",
       "60194  1994-05-13  Male       6  \n",
       "60195  1994-05-09  Male       1  \n",
       "60196  2017-12-29  Male       1  \n",
       "60197  1973-11-11  Male       6  \n",
       "60198  2024-03-01  Male       6  \n",
       "\n",
       "[60199 rows x 7 columns]"
      ]
     },
     "execution_count": 33,
     "metadata": {},
     "output_type": "execute_result"
    }
   ],
   "source": [
    "project_data # Substituição feita com sucesso!"
   ]
  },
  {
   "cell_type": "code",
   "execution_count": null,
   "id": "15671977",
   "metadata": {},
   "outputs": [
    {
     "data": {
      "application/vnd.plotly.v1+json": {
       "config": {
        "plotlyServerURL": "https://plot.ly"
       },
       "data": [
        {
         "bingroup": "x",
         "hovertemplate": "sex=Male<br>age=%{x}<br>count=%{y}<extra></extra>",
         "legendgroup": "Male",
         "marker": {
          "color": "#636efa",
          "pattern": {
           "shape": ""
          }
         },
         "name": "Male",
         "orientation": "v",
         "showlegend": true,
         "type": "histogram",
         "x": {
          "bdata": "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",
          "dtype": "i1"
         },
         "xaxis": "x",
         "yaxis": "y"
        },
        {
         "bingroup": "x",
         "hovertemplate": "sex=Female<br>age=%{x}<br>count=%{y}<extra></extra>",
         "legendgroup": "Female",
         "marker": {
          "color": "#EF553B",
          "pattern": {
           "shape": ""
          }
         },
         "name": "Female",
         "orientation": "v",
         "showlegend": true,
         "type": "histogram",
         "x": {
          "bdata": "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",
          "dtype": "i1"
         },
         "xaxis": "x",
         "yaxis": "y"
        }
       ],
       "layout": {
        "barmode": "relative",
        "legend": {
         "title": {
          "text": "sex"
         },
         "tracegroupgap": 0
        },
        "template": {
         "data": {
          "bar": [
           {
            "error_x": {
             "color": "#2a3f5f"
            },
            "error_y": {
             "color": "#2a3f5f"
            },
            "marker": {
             "line": {
              "color": "#E5ECF6",
              "width": 0.5
             },
             "pattern": {
              "fillmode": "overlay",
              "size": 10,
              "solidity": 0.2
             }
            },
            "type": "bar"
           }
          ],
          "barpolar": [
           {
            "marker": {
             "line": {
              "color": "#E5ECF6",
              "width": 0.5
             },
             "pattern": {
              "fillmode": "overlay",
              "size": 10,
              "solidity": 0.2
             }
            },
            "type": "barpolar"
           }
          ],
          "carpet": [
           {
            "aaxis": {
             "endlinecolor": "#2a3f5f",
             "gridcolor": "white",
             "linecolor": "white",
             "minorgridcolor": "white",
             "startlinecolor": "#2a3f5f"
            },
            "baxis": {
             "endlinecolor": "#2a3f5f",
             "gridcolor": "white",
             "linecolor": "white",
             "minorgridcolor": "white",
             "startlinecolor": "#2a3f5f"
            },
            "type": "carpet"
           }
          ],
          "choropleth": [
           {
            "colorbar": {
             "outlinewidth": 0,
             "ticks": ""
            },
            "type": "choropleth"
           }
          ],
          "contour": [
           {
            "colorbar": {
             "outlinewidth": 0,
             "ticks": ""
            },
            "colorscale": [
             [
              0,
              "#0d0887"
             ],
             [
              0.1111111111111111,
              "#46039f"
             ],
             [
              0.2222222222222222,
              "#7201a8"
             ],
             [
              0.3333333333333333,
              "#9c179e"
             ],
             [
              0.4444444444444444,
              "#bd3786"
             ],
             [
              0.5555555555555556,
              "#d8576b"
             ],
             [
              0.6666666666666666,
              "#ed7953"
             ],
             [
              0.7777777777777778,
              "#fb9f3a"
             ],
             [
              0.8888888888888888,
              "#fdca26"
             ],
             [
              1,
              "#f0f921"
             ]
            ],
            "type": "contour"
           }
          ],
          "contourcarpet": [
           {
            "colorbar": {
             "outlinewidth": 0,
             "ticks": ""
            },
            "type": "contourcarpet"
           }
          ],
          "heatmap": [
           {
            "colorbar": {
             "outlinewidth": 0,
             "ticks": ""
            },
            "colorscale": [
             [
              0,
              "#0d0887"
             ],
             [
              0.1111111111111111,
              "#46039f"
             ],
             [
              0.2222222222222222,
              "#7201a8"
             ],
             [
              0.3333333333333333,
              "#9c179e"
             ],
             [
              0.4444444444444444,
              "#bd3786"
             ],
             [
              0.5555555555555556,
              "#d8576b"
             ],
             [
              0.6666666666666666,
              "#ed7953"
             ],
             [
              0.7777777777777778,
              "#fb9f3a"
             ],
             [
              0.8888888888888888,
              "#fdca26"
             ],
             [
              1,
              "#f0f921"
             ]
            ],
            "type": "heatmap"
           }
          ],
          "histogram": [
           {
            "marker": {
             "pattern": {
              "fillmode": "overlay",
              "size": 10,
              "solidity": 0.2
             }
            },
            "type": "histogram"
           }
          ],
          "histogram2d": [
           {
            "colorbar": {
             "outlinewidth": 0,
             "ticks": ""
            },
            "colorscale": [
             [
              0,
              "#0d0887"
             ],
             [
              0.1111111111111111,
              "#46039f"
             ],
             [
              0.2222222222222222,
              "#7201a8"
             ],
             [
              0.3333333333333333,
              "#9c179e"
             ],
             [
              0.4444444444444444,
              "#bd3786"
             ],
             [
              0.5555555555555556,
              "#d8576b"
             ],
             [
              0.6666666666666666,
              "#ed7953"
             ],
             [
              0.7777777777777778,
              "#fb9f3a"
             ],
             [
              0.8888888888888888,
              "#fdca26"
             ],
             [
              1,
              "#f0f921"
             ]
            ],
            "type": "histogram2d"
           }
          ],
          "histogram2dcontour": [
           {
            "colorbar": {
             "outlinewidth": 0,
             "ticks": ""
            },
            "colorscale": [
             [
              0,
              "#0d0887"
             ],
             [
              0.1111111111111111,
              "#46039f"
             ],
             [
              0.2222222222222222,
              "#7201a8"
             ],
             [
              0.3333333333333333,
              "#9c179e"
             ],
             [
              0.4444444444444444,
              "#bd3786"
             ],
             [
              0.5555555555555556,
              "#d8576b"
             ],
             [
              0.6666666666666666,
              "#ed7953"
             ],
             [
              0.7777777777777778,
              "#fb9f3a"
             ],
             [
              0.8888888888888888,
              "#fdca26"
             ],
             [
              1,
              "#f0f921"
             ]
            ],
            "type": "histogram2dcontour"
           }
          ],
          "mesh3d": [
           {
            "colorbar": {
             "outlinewidth": 0,
             "ticks": ""
            },
            "type": "mesh3d"
           }
          ],
          "parcoords": [
           {
            "line": {
             "colorbar": {
              "outlinewidth": 0,
              "ticks": ""
             }
            },
            "type": "parcoords"
           }
          ],
          "pie": [
           {
            "automargin": true,
            "type": "pie"
           }
          ],
          "scatter": [
           {
            "fillpattern": {
             "fillmode": "overlay",
             "size": 10,
             "solidity": 0.2
            },
            "type": "scatter"
           }
          ],
          "scatter3d": [
           {
            "line": {
             "colorbar": {
              "outlinewidth": 0,
              "ticks": ""
             }
            },
            "marker": {
             "colorbar": {
              "outlinewidth": 0,
              "ticks": ""
             }
            },
            "type": "scatter3d"
           }
          ],
          "scattercarpet": [
           {
            "marker": {
             "colorbar": {
              "outlinewidth": 0,
              "ticks": ""
             }
            },
            "type": "scattercarpet"
           }
          ],
          "scattergeo": [
           {
            "marker": {
             "colorbar": {
              "outlinewidth": 0,
              "ticks": ""
             }
            },
            "type": "scattergeo"
           }
          ],
          "scattergl": [
           {
            "marker": {
             "colorbar": {
              "outlinewidth": 0,
              "ticks": ""
             }
            },
            "type": "scattergl"
           }
          ],
          "scattermap": [
           {
            "marker": {
             "colorbar": {
              "outlinewidth": 0,
              "ticks": ""
             }
            },
            "type": "scattermap"
           }
          ],
          "scattermapbox": [
           {
            "marker": {
             "colorbar": {
              "outlinewidth": 0,
              "ticks": ""
             }
            },
            "type": "scattermapbox"
           }
          ],
          "scatterpolar": [
           {
            "marker": {
             "colorbar": {
              "outlinewidth": 0,
              "ticks": ""
             }
            },
            "type": "scatterpolar"
           }
          ],
          "scatterpolargl": [
           {
            "marker": {
             "colorbar": {
              "outlinewidth": 0,
              "ticks": ""
             }
            },
            "type": "scatterpolargl"
           }
          ],
          "scatterternary": [
           {
            "marker": {
             "colorbar": {
              "outlinewidth": 0,
              "ticks": ""
             }
            },
            "type": "scatterternary"
           }
          ],
          "surface": [
           {
            "colorbar": {
             "outlinewidth": 0,
             "ticks": ""
            },
            "colorscale": [
             [
              0,
              "#0d0887"
             ],
             [
              0.1111111111111111,
              "#46039f"
             ],
             [
              0.2222222222222222,
              "#7201a8"
             ],
             [
              0.3333333333333333,
              "#9c179e"
             ],
             [
              0.4444444444444444,
              "#bd3786"
             ],
             [
              0.5555555555555556,
              "#d8576b"
             ],
             [
              0.6666666666666666,
              "#ed7953"
             ],
             [
              0.7777777777777778,
              "#fb9f3a"
             ],
             [
              0.8888888888888888,
              "#fdca26"
             ],
             [
              1,
              "#f0f921"
             ]
            ],
            "type": "surface"
           }
          ],
          "table": [
           {
            "cells": {
             "fill": {
              "color": "#EBF0F8"
             },
             "line": {
              "color": "white"
             }
            },
            "header": {
             "fill": {
              "color": "#C8D4E3"
             },
             "line": {
              "color": "white"
             }
            },
            "type": "table"
           }
          ]
         },
         "layout": {
          "annotationdefaults": {
           "arrowcolor": "#2a3f5f",
           "arrowhead": 0,
           "arrowwidth": 1
          },
          "autotypenumbers": "strict",
          "coloraxis": {
           "colorbar": {
            "outlinewidth": 0,
            "ticks": ""
           }
          },
          "colorscale": {
           "diverging": [
            [
             0,
             "#8e0152"
            ],
            [
             0.1,
             "#c51b7d"
            ],
            [
             0.2,
             "#de77ae"
            ],
            [
             0.3,
             "#f1b6da"
            ],
            [
             0.4,
             "#fde0ef"
            ],
            [
             0.5,
             "#f7f7f7"
            ],
            [
             0.6,
             "#e6f5d0"
            ],
            [
             0.7,
             "#b8e186"
            ],
            [
             0.8,
             "#7fbc41"
            ],
            [
             0.9,
             "#4d9221"
            ],
            [
             1,
             "#276419"
            ]
           ],
           "sequential": [
            [
             0,
             "#0d0887"
            ],
            [
             0.1111111111111111,
             "#46039f"
            ],
            [
             0.2222222222222222,
             "#7201a8"
            ],
            [
             0.3333333333333333,
             "#9c179e"
            ],
            [
             0.4444444444444444,
             "#bd3786"
            ],
            [
             0.5555555555555556,
             "#d8576b"
            ],
            [
             0.6666666666666666,
             "#ed7953"
            ],
            [
             0.7777777777777778,
             "#fb9f3a"
            ],
            [
             0.8888888888888888,
             "#fdca26"
            ],
            [
             1,
             "#f0f921"
            ]
           ],
           "sequentialminus": [
            [
             0,
             "#0d0887"
            ],
            [
             0.1111111111111111,
             "#46039f"
            ],
            [
             0.2222222222222222,
             "#7201a8"
            ],
            [
             0.3333333333333333,
             "#9c179e"
            ],
            [
             0.4444444444444444,
             "#bd3786"
            ],
            [
             0.5555555555555556,
             "#d8576b"
            ],
            [
             0.6666666666666666,
             "#ed7953"
            ],
            [
             0.7777777777777778,
             "#fb9f3a"
            ],
            [
             0.8888888888888888,
             "#fdca26"
            ],
            [
             1,
             "#f0f921"
            ]
           ]
          },
          "colorway": [
           "#636efa",
           "#EF553B",
           "#00cc96",
           "#ab63fa",
           "#FFA15A",
           "#19d3f3",
           "#FF6692",
           "#B6E880",
           "#FF97FF",
           "#FECB52"
          ],
          "font": {
           "color": "#2a3f5f"
          },
          "geo": {
           "bgcolor": "white",
           "lakecolor": "white",
           "landcolor": "#E5ECF6",
           "showlakes": true,
           "showland": true,
           "subunitcolor": "white"
          },
          "hoverlabel": {
           "align": "left"
          },
          "hovermode": "closest",
          "mapbox": {
           "style": "light"
          },
          "paper_bgcolor": "white",
          "plot_bgcolor": "#E5ECF6",
          "polar": {
           "angularaxis": {
            "gridcolor": "white",
            "linecolor": "white",
            "ticks": ""
           },
           "bgcolor": "#E5ECF6",
           "radialaxis": {
            "gridcolor": "white",
            "linecolor": "white",
            "ticks": ""
           }
          },
          "scene": {
           "xaxis": {
            "backgroundcolor": "#E5ECF6",
            "gridcolor": "white",
            "gridwidth": 2,
            "linecolor": "white",
            "showbackground": true,
            "ticks": "",
            "zerolinecolor": "white"
           },
           "yaxis": {
            "backgroundcolor": "#E5ECF6",
            "gridcolor": "white",
            "gridwidth": 2,
            "linecolor": "white",
            "showbackground": true,
            "ticks": "",
            "zerolinecolor": "white"
           },
           "zaxis": {
            "backgroundcolor": "#E5ECF6",
            "gridcolor": "white",
            "gridwidth": 2,
            "linecolor": "white",
            "showbackground": true,
            "ticks": "",
            "zerolinecolor": "white"
           }
          },
          "shapedefaults": {
           "line": {
            "color": "#2a3f5f"
           }
          },
          "ternary": {
           "aaxis": {
            "gridcolor": "white",
            "linecolor": "white",
            "ticks": ""
           },
           "baxis": {
            "gridcolor": "white",
            "linecolor": "white",
            "ticks": ""
           },
           "bgcolor": "#E5ECF6",
           "caxis": {
            "gridcolor": "white",
            "linecolor": "white",
            "ticks": ""
           }
          },
          "title": {
           "x": 0.05
          },
          "xaxis": {
           "automargin": true,
           "gridcolor": "white",
           "linecolor": "white",
           "ticks": "",
           "title": {
            "standoff": 15
           },
           "zerolinecolor": "white",
           "zerolinewidth": 2
          },
          "yaxis": {
           "automargin": true,
           "gridcolor": "white",
           "linecolor": "white",
           "ticks": "",
           "title": {
            "standoff": 15
           },
           "zerolinecolor": "white",
           "zerolinewidth": 2
          }
         }
        },
        "title": {
         "text": "Deaths in Gaza by Age and Gender"
        },
        "xaxis": {
         "anchor": "y",
         "domain": [
          0,
          1
         ],
         "title": {
          "text": "age"
         }
        },
        "yaxis": {
         "anchor": "x",
         "domain": [
          0,
          1
         ],
         "title": {
          "text": "count"
         }
        }
       }
      }
     },
     "metadata": {},
     "output_type": "display_data"
    }
   ],
   "source": [
    "# Criando um histograma\n",
    "fig_hist = px.histogram(\n",
    "    project_data,\n",
    "    x=\"age\",\n",
    "    title=\"Deaths in Gaza by Age and Gender\",\n",
    "    color=\"sex\" \n",
    ")\n",
    "fig_hist.show()\n",
    "#Percebemos existem mais pessoas do genero feminino mortas do que pessoas do genero masculino na Faixa de Gaza\n"
   ]
  },
  {
   "cell_type": "code",
   "execution_count": null,
   "id": "c1e0a36b",
   "metadata": {},
   "outputs": [],
   "source": []
  }
 ],
 "metadata": {
  "kernelspec": {
   "display_name": "base",
   "language": "python",
   "name": "python3"
  },
  "language_info": {
   "codemirror_mode": {
    "name": "ipython",
    "version": 3
   },
   "file_extension": ".py",
   "mimetype": "text/x-python",
   "name": "python",
   "nbconvert_exporter": "python",
   "pygments_lexer": "ipython3",
   "version": "3.12.3"
  }
 },
 "nbformat": 4,
 "nbformat_minor": 5
}
